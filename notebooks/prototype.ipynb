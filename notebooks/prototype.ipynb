{
 "cells": [
  {
   "cell_type": "code",
   "execution_count": 9,
   "metadata": {},
   "outputs": [],
   "source": [
    "from pathlib import Path\n",
    "import pandas as pd\n",
    "import numpy as np\n",
    "\n",
    "from Bio.PDB import PDBParser, PDBIO, Select"
   ]
  },
  {
   "cell_type": "code",
   "execution_count": 2,
   "metadata": {},
   "outputs": [],
   "source": [
    "predictions = pd.read_csv(\"../data/AlphaFold-disorder/UP000005640_9606_HUMAN_v3_pred.tsv\", sep=\"\\t\")\n",
    "grouped_predictions = predictions.groupby(\"name\")\n",
    "\n",
    "structures = Path(\"../data/AlphaFoldDB/UP000005640_9606_HUMAN_v3/\").rglob(\"*.pdb\")\n"
   ]
  },
  {
   "cell_type": "code",
   "execution_count": 42,
   "metadata": {},
   "outputs": [
    {
     "name": "stderr",
     "output_type": "stream",
     "text": [
      "/tmp/ipykernel_354298/2902748076.py:12: UserWarning: Boolean Series key will be reindexed to match DataFrame index.\n",
      "  ordered = df[wdw.min() <= 0.581]\n"
     ]
    }
   ],
   "source": [
    "example = \"AF-A4D2P6-F1-model_v3\"\n",
    "\n",
    "df = grouped_predictions.get_group(example)\n",
    "\n",
    "# forward and reverse rolling \n",
    "wdw_fdw = df[\"disorder-25\"].rolling(25)\n",
    "wdw_rev = df[\"disorder-25\"][::-1].rolling(25)\n",
    "\n",
    "ordered_positions = []\n",
    "\n",
    "for wdw in [wdw_fdw, wdw_rev]:\n",
    "    ordered = df[wdw.min() <= 0.581]\n",
    "    ordered_positions.extend(ordered[\"pos\"].values)\n",
    "ordered_positions = set(ordered_positions)"
   ]
  },
  {
   "cell_type": "code",
   "execution_count": 39,
   "metadata": {},
   "outputs": [],
   "source": [
    "parser = PDBParser()\n",
    "struc = parser.get_structure(example, f\"../data/AlphaFoldDB/UP000005640_9606_HUMAN_v3/{example}.pdb\")"
   ]
  },
  {
   "cell_type": "code",
   "execution_count": 43,
   "metadata": {},
   "outputs": [],
   "source": [
    "io = PDBIO()\n",
    "\n",
    "class ResSelect(Select):\n",
    "    def accept_residue(self, res):\n",
    "        if res.id[1] in ordered_positions:\n",
    "            return True\n",
    "        else:\n",
    "            return False\n",
    "\n",
    "\n",
    "io = PDBIO()\n",
    "io.set_structure(struc)\n",
    "io.save('../data/example_trimmed.pdb', ResSelect(), preserve_atom_numbering=True)"
   ]
  },
  {
   "cell_type": "code",
   "execution_count": null,
   "metadata": {},
   "outputs": [],
   "source": []
  }
 ],
 "metadata": {
  "kernelspec": {
   "display_name": "localbase",
   "language": "python",
   "name": "python3"
  },
  "language_info": {
   "codemirror_mode": {
    "name": "ipython",
    "version": 3
   },
   "file_extension": ".py",
   "mimetype": "text/x-python",
   "name": "python",
   "nbconvert_exporter": "python",
   "pygments_lexer": "ipython3",
   "version": "3.9.12 (main, Apr  5 2022, 06:56:58) \n[GCC 7.5.0]"
  },
  "orig_nbformat": 4,
  "vscode": {
   "interpreter": {
    "hash": "0561e67ec50fe766023c6e670333000f7f347b34775d2ef2145fb17151f22e3f"
   }
  }
 },
 "nbformat": 4,
 "nbformat_minor": 2
}
